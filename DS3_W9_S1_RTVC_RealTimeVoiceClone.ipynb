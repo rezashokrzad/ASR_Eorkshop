{
  "nbformat": 4,
  "nbformat_minor": 0,
  "metadata": {
    "colab": {
      "provenance": [],
      "gpuType": "T4"
    },
    "kernelspec": {
      "name": "python3",
      "display_name": "Python 3"
    },
    "language_info": {
      "name": "python"
    },
    "accelerator": "GPU"
  },
  "cells": [
    {
      "cell_type": "code",
      "source": [
        "!git clone https://github.com/CorentinJ/Real-Time-Voice-Cloning.git\n"
      ],
      "metadata": {
        "id": "-H8VkuG6UHez"
      },
      "execution_count": null,
      "outputs": []
    },
    {
      "cell_type": "code",
      "source": [
        "\n",
        "!pip install numpy==1.22.3\n"
      ],
      "metadata": {
        "id": "K6joURvLdJBW"
      },
      "execution_count": null,
      "outputs": []
    },
    {
      "cell_type": "code",
      "source": [
        "# remove numpy from req file before run\n",
        "%cd Real-Time-Voice-Cloning\n",
        "!pip install -r 'requirements.txt'\n"
      ],
      "metadata": {
        "id": "Ix6BHiWydBGX"
      },
      "execution_count": null,
      "outputs": []
    },
    {
      "cell_type": "code",
      "source": [
        "import sys\n",
        "from pathlib import Path\n",
        "import librosa\n",
        "from IPython.display import Audio\n",
        "import numpy as np\n"
      ],
      "metadata": {
        "id": "2CmOZpRzdPaQ"
      },
      "execution_count": null,
      "outputs": []
    },
    {
      "cell_type": "code",
      "source": [
        "sys.path.append('Real-Time-Voice-Cloning/')  # Adjust based on actual path\n",
        "!mkdir -p encoder/saved_models\n",
        "!mkdir -p synthesizer/saved_models\n",
        "!mkdir -p vocoder/saved_models\n",
        "\n",
        "!gdown --id '1hoFzOhkAA_FMLxZujFma00Cj4cR1fmTL' -O encoder/saved_models/encoder.pt\n",
        "!gdown --id '19DGdDixWUAzzF88aNd1FL3wQngtzdnry' -O synthesizer/saved_models/synthesizer.pt\n",
        "!gdown --id '1lc--7GQqlL7uJ5GC2ulJL4H6n9mZF4Pq' -O vocoder/saved_models/vocoder.pt\n"
      ],
      "metadata": {
        "id": "uOgWPvsAdZZT"
      },
      "execution_count": null,
      "outputs": []
    },
    {
      "cell_type": "code",
      "source": [
        "from encoder import inference as encoder\n",
        "from synthesizer.inference import Synthesizer\n",
        "from vocoder import inference as vocoder\n",
        "\n",
        "# Load models (paths might need to be adjusted based on where you've stored them)\n",
        "encoder.load_model(Path('/content/encoder/saved_models/encoder.pt'))\n",
        "synthesizer = Synthesizer(Path('/content/synthesizer/saved_models/synthesizer.pt'))\n",
        "vocoder.load_model(Path('/content/vocoder/saved_models/vocoder.pt'))\n",
        "\n",
        "# Function to clone voice\n",
        "def clone_voice(text, source_audio):\n",
        "    \"\"\"\n",
        "    Clone voice from source audio to generate text.\n",
        "    \"\"\"\n",
        "    # Preprocess the source audio\n",
        "    preprocessed_wav = encoder.preprocess_wav(source_audio)\n",
        "\n",
        "    # Encode the source audio to get the embedding\n",
        "    original_wav, sampling_rate = librosa.load(source_audio)\n",
        "    embed = encoder.embed_utterance(preprocessed_wav)\n",
        "\n",
        "    # Synthesize the speech\n",
        "    specs = synthesizer.synthesize_spectrograms([text], [embed])\n",
        "    generated_wav = vocoder.infer_waveform(specs[0])\n",
        "\n",
        "    # Adjust the sample rate\n",
        "    generated_wav = np.pad(generated_wav, (0, synthesizer.sample_rate), mode=\"constant\")\n",
        "\n",
        "    return generated_wav\n",
        ""
      ],
      "metadata": {
        "id": "TNKppT4BdgIr"
      },
      "execution_count": null,
      "outputs": []
    },
    {
      "cell_type": "code",
      "source": [
        "# Example usage\n",
        "text_to_clone = \"???\"\n",
        "source_audio_path = \"/content/???.wav\"  # Update this to your source audio file path\n",
        "\n",
        "cloned_voice = clone_voice(text_to_clone, source_audio_path)\n",
        "\n",
        "# Save or process the cloned voice further...\n",
        "sampling_rate = 16000\n",
        "\n",
        "# Convert the NumPy array to an audio file\n",
        "sf.write('cloned_voice.wav', cloned_voice, sampling_rate)\n"
      ],
      "metadata": {
        "id": "aFbaXPsQUhIh"
      },
      "execution_count": null,
      "outputs": []
    },
    {
      "cell_type": "code",
      "source": [
        "# Use IPython.display.Audio to play the sound\n",
        "Audio('cloned_voice.wav')\n"
      ],
      "metadata": {
        "id": "Kuc_g998c3k-"
      },
      "execution_count": null,
      "outputs": []
    }
  ]
}