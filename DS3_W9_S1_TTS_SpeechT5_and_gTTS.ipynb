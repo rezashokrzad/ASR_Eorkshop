{
  "cells": [
    {
      "cell_type": "markdown",
      "source": [
        "https://huggingface.co/blog/speecht5"
      ],
      "metadata": {
        "id": "HDT5GvwMLMwa"
      }
    },
    {
      "cell_type": "code",
      "source": [
        "!pip install datasets parallel_wavegan speechbrain sentencepiece\n",
        "!pip install --upgrade transformers"
      ],
      "metadata": {
        "id": "9_H7yX3CjJbv"
      },
      "execution_count": null,
      "outputs": []
    },
    {
      "cell_type": "code",
      "source": [
        "# Library Imports\n",
        "import torch\n",
        "from transformers import SpeechT5Processor, SpeechT5ForTextToSpeech\n",
        "from datasets import load_dataset\n",
        "import soundfile as sf\n",
        "import sentencepiece as spm\n",
        "import torch.nn as nn\n",
        "import librosa\n",
        "from transformers import SpeechT5HifiGan\n",
        "import numpy as np"
      ],
      "metadata": {
        "id": "Xjsz3I8p9XpW"
      },
      "execution_count": 2,
      "outputs": []
    },
    {
      "cell_type": "code",
      "source": [],
      "metadata": {
        "id": "sYwoyBfT6cCu"
      },
      "execution_count": null,
      "outputs": []
    },
    {
      "cell_type": "code",
      "source": [
        "# Load the embeddings dataset\n",
        "embeddings_dataset = load_dataset(\n",
        "    \"Matthijs/cmu-arctic-xvectors\",\n",
        "    split=\"validation\"\n",
        "    )\n",
        "\n",
        "# Load Processor and Model\n",
        "model_name = \"microsoft/speecht5_tts\"\n",
        "processor = SpeechT5Processor.from_pretrained(model_name)\n",
        "model = SpeechT5ForTextToSpeech.from_pretrained(model_name)\n",
        "\n",
        "# Load HiFIGAN Vocoder\n",
        "# vocoder = HIFIGAN.from_hparams(source=\"speechbrain/tts-hifigan-ljspeech\", savedir=\"tmpdir_vocoder\")\n",
        "vocoder = SpeechT5HifiGan.from_pretrained(\"microsoft/speecht5_hifigan\")\n",
        "\n",
        "# Process Text\n",
        "text = \"TTS stands for Text-to-Speech. It is a technology that converts written text \\\n",
        "into spoken words, enabling machines to \\\"read aloud\\\" text content. TTS is widely used \\\n",
        "in various applications to improve accessibility, enhance user interaction, and \\\n",
        "enable automation.\"\n",
        "input_ids = processor(text=text, return_tensors=\"pt\")"
      ],
      "metadata": {
        "id": "XhPss-X1L8sO"
      },
      "execution_count": null,
      "outputs": []
    },
    {
      "cell_type": "code",
      "execution_count": 4,
      "metadata": {
        "id": "lIYdn1woOS1n",
        "colab": {
          "base_uri": "https://localhost:8080/",
          "height": 49,
          "referenced_widgets": [
            "4c84b32fa8ba4f07a8cdc62af8e406ea",
            "ca52fcd8caf946bf8de4de90cb2f20f1",
            "a1fe753645c74d2991a5631d29209e68",
            "d2e743f174e34f6784ce492e2d8bf6e0",
            "e053d55ed9e247a1bfd80b34872acdae",
            "dafe802b094f4247bb64f599942a912a",
            "8c94e0f4026b43f791a0f8a205471bbb",
            "95f3ca6d71e44c59b0aeb04a8fe2d880",
            "e8becd9903524afe861f4bbacb589b08",
            "687a568cec1f469e92680d4fce6d4737",
            "6067abce87f1412786535e6a0d95ae7d"
          ]
        },
        "outputId": "08154c58-c158-4902-a02c-3258e10a6d84"
      },
      "outputs": [
        {
          "output_type": "display_data",
          "data": {
            "text/plain": [
              "model.safetensors:   0%|          | 0.00/585M [00:00<?, ?B/s]"
            ],
            "application/vnd.jupyter.widget-view+json": {
              "version_major": 2,
              "version_minor": 0,
              "model_id": "4c84b32fa8ba4f07a8cdc62af8e406ea"
            }
          },
          "metadata": {}
        }
      ],
      "source": [
        "# Select a specific speaker embedding\n",
        "new_speaker_index = 7930  # Example index, you can choose any valid index\n",
        "speaker_embeddings = embeddings_dataset[new_speaker_index][\"xvector\"]\n",
        "speaker_embeddings = torch.tensor(speaker_embeddings).unsqueeze(0)\n",
        "\n",
        "# Generate Mel Spectrogram\n",
        "with torch.no_grad():\n",
        "    mel_outputs = model.generate_speech(input_ids['input_ids'], speaker_embeddings=speaker_embeddings)\n",
        "\n",
        "# Generate speech waveform from mel spectrogram using the vocoder\n",
        "with torch.no_grad():\n",
        "    speech = vocoder(mel_outputs)\n",
        "\n",
        "speech = model.generate_speech(input_ids[\"input_ids\"], speaker_embeddings=speaker_embeddings, vocoder=vocoder)\n",
        "speech = speech.numpy()\n",
        "speech = speech / np.max(np.abs(speech))\n",
        "file_name = \"TTS\" + str(new_speaker_index) + \".wav\"\n",
        "sf.write(file_name, speech, samplerate=16000)"
      ]
    },
    {
      "cell_type": "markdown",
      "source": [
        "## Convert .wav to .mp4"
      ],
      "metadata": {
        "id": "21mC22V8LajF"
      }
    },
    {
      "cell_type": "code",
      "source": [
        "from moviepy.editor import *\n",
        "\n",
        "# Load your audio file\n",
        "audio_clip = AudioFileClip(file_name)\n",
        "\n",
        "# Make a black screen of the same duration as the audio clip\n",
        "video_clip = ColorClip(size=(1920, 1080), color=(0,0,0), duration=audio_clip.duration)\n",
        "\n",
        "# Set the audio of the video clip as your audio file\n",
        "video_clip = video_clip.set_audio(audio_clip)\n",
        "\n",
        "# Write the result to a file\n",
        "video_clip.write_videofile(\"video_with_audio.mp4\", fps=24)"
      ],
      "metadata": {
        "id": "GXW34HAtE_TC",
        "colab": {
          "base_uri": "https://localhost:8080/"
        },
        "outputId": "4c87d3b0-9b63-4cf8-a5b4-b7b14dd6d998"
      },
      "execution_count": 5,
      "outputs": [
        {
          "output_type": "stream",
          "name": "stderr",
          "text": [
            "WARNING:py.warnings:/usr/local/lib/python3.10/dist-packages/moviepy/video/io/sliders.py:61: SyntaxWarning: \"is\" with a literal. Did you mean \"==\"?\n",
            "  if event.key is 'enter':\n",
            "\n"
          ]
        },
        {
          "output_type": "stream",
          "name": "stdout",
          "text": [
            "Moviepy - Building video video_with_audio.mp4.\n",
            "MoviePy - Writing audio in video_with_audioTEMP_MPY_wvf_snd.mp3\n"
          ]
        },
        {
          "output_type": "stream",
          "name": "stderr",
          "text": []
        },
        {
          "output_type": "stream",
          "name": "stdout",
          "text": [
            "MoviePy - Done.\n",
            "Moviepy - Writing video video_with_audio.mp4\n",
            "\n"
          ]
        },
        {
          "output_type": "stream",
          "name": "stderr",
          "text": []
        },
        {
          "output_type": "stream",
          "name": "stdout",
          "text": [
            "Moviepy - Done !\n",
            "Moviepy - video ready video_with_audio.mp4\n"
          ]
        }
      ]
    }
  ],
  "metadata": {
    "colab": {
      "provenance": [],
      "gpuType": "T4"
    },
    "kernelspec": {
      "display_name": "Python 3",
      "name": "python3"
    },
    "accelerator": "GPU",
    "widgets": {
      "application/vnd.jupyter.widget-state+json": {
        "4c84b32fa8ba4f07a8cdc62af8e406ea": {
          "model_module": "@jupyter-widgets/controls",
          "model_name": "HBoxModel",
          "model_module_version": "1.5.0",
          "state": {
            "_dom_classes": [],
            "_model_module": "@jupyter-widgets/controls",
            "_model_module_version": "1.5.0",
            "_model_name": "HBoxModel",
            "_view_count": null,
            "_view_module": "@jupyter-widgets/controls",
            "_view_module_version": "1.5.0",
            "_view_name": "HBoxView",
            "box_style": "",
            "children": [
              "IPY_MODEL_ca52fcd8caf946bf8de4de90cb2f20f1",
              "IPY_MODEL_a1fe753645c74d2991a5631d29209e68",
              "IPY_MODEL_d2e743f174e34f6784ce492e2d8bf6e0"
            ],
            "layout": "IPY_MODEL_e053d55ed9e247a1bfd80b34872acdae"
          }
        },
        "ca52fcd8caf946bf8de4de90cb2f20f1": {
          "model_module": "@jupyter-widgets/controls",
          "model_name": "HTMLModel",
          "model_module_version": "1.5.0",
          "state": {
            "_dom_classes": [],
            "_model_module": "@jupyter-widgets/controls",
            "_model_module_version": "1.5.0",
            "_model_name": "HTMLModel",
            "_view_count": null,
            "_view_module": "@jupyter-widgets/controls",
            "_view_module_version": "1.5.0",
            "_view_name": "HTMLView",
            "description": "",
            "description_tooltip": null,
            "layout": "IPY_MODEL_dafe802b094f4247bb64f599942a912a",
            "placeholder": "​",
            "style": "IPY_MODEL_8c94e0f4026b43f791a0f8a205471bbb",
            "value": "model.safetensors: 100%"
          }
        },
        "a1fe753645c74d2991a5631d29209e68": {
          "model_module": "@jupyter-widgets/controls",
          "model_name": "FloatProgressModel",
          "model_module_version": "1.5.0",
          "state": {
            "_dom_classes": [],
            "_model_module": "@jupyter-widgets/controls",
            "_model_module_version": "1.5.0",
            "_model_name": "FloatProgressModel",
            "_view_count": null,
            "_view_module": "@jupyter-widgets/controls",
            "_view_module_version": "1.5.0",
            "_view_name": "ProgressView",
            "bar_style": "success",
            "description": "",
            "description_tooltip": null,
            "layout": "IPY_MODEL_95f3ca6d71e44c59b0aeb04a8fe2d880",
            "max": 585395848,
            "min": 0,
            "orientation": "horizontal",
            "style": "IPY_MODEL_e8becd9903524afe861f4bbacb589b08",
            "value": 585395848
          }
        },
        "d2e743f174e34f6784ce492e2d8bf6e0": {
          "model_module": "@jupyter-widgets/controls",
          "model_name": "HTMLModel",
          "model_module_version": "1.5.0",
          "state": {
            "_dom_classes": [],
            "_model_module": "@jupyter-widgets/controls",
            "_model_module_version": "1.5.0",
            "_model_name": "HTMLModel",
            "_view_count": null,
            "_view_module": "@jupyter-widgets/controls",
            "_view_module_version": "1.5.0",
            "_view_name": "HTMLView",
            "description": "",
            "description_tooltip": null,
            "layout": "IPY_MODEL_687a568cec1f469e92680d4fce6d4737",
            "placeholder": "​",
            "style": "IPY_MODEL_6067abce87f1412786535e6a0d95ae7d",
            "value": " 585M/585M [00:06&lt;00:00, 133MB/s]"
          }
        },
        "e053d55ed9e247a1bfd80b34872acdae": {
          "model_module": "@jupyter-widgets/base",
          "model_name": "LayoutModel",
          "model_module_version": "1.2.0",
          "state": {
            "_model_module": "@jupyter-widgets/base",
            "_model_module_version": "1.2.0",
            "_model_name": "LayoutModel",
            "_view_count": null,
            "_view_module": "@jupyter-widgets/base",
            "_view_module_version": "1.2.0",
            "_view_name": "LayoutView",
            "align_content": null,
            "align_items": null,
            "align_self": null,
            "border": null,
            "bottom": null,
            "display": null,
            "flex": null,
            "flex_flow": null,
            "grid_area": null,
            "grid_auto_columns": null,
            "grid_auto_flow": null,
            "grid_auto_rows": null,
            "grid_column": null,
            "grid_gap": null,
            "grid_row": null,
            "grid_template_areas": null,
            "grid_template_columns": null,
            "grid_template_rows": null,
            "height": null,
            "justify_content": null,
            "justify_items": null,
            "left": null,
            "margin": null,
            "max_height": null,
            "max_width": null,
            "min_height": null,
            "min_width": null,
            "object_fit": null,
            "object_position": null,
            "order": null,
            "overflow": null,
            "overflow_x": null,
            "overflow_y": null,
            "padding": null,
            "right": null,
            "top": null,
            "visibility": null,
            "width": null
          }
        },
        "dafe802b094f4247bb64f599942a912a": {
          "model_module": "@jupyter-widgets/base",
          "model_name": "LayoutModel",
          "model_module_version": "1.2.0",
          "state": {
            "_model_module": "@jupyter-widgets/base",
            "_model_module_version": "1.2.0",
            "_model_name": "LayoutModel",
            "_view_count": null,
            "_view_module": "@jupyter-widgets/base",
            "_view_module_version": "1.2.0",
            "_view_name": "LayoutView",
            "align_content": null,
            "align_items": null,
            "align_self": null,
            "border": null,
            "bottom": null,
            "display": null,
            "flex": null,
            "flex_flow": null,
            "grid_area": null,
            "grid_auto_columns": null,
            "grid_auto_flow": null,
            "grid_auto_rows": null,
            "grid_column": null,
            "grid_gap": null,
            "grid_row": null,
            "grid_template_areas": null,
            "grid_template_columns": null,
            "grid_template_rows": null,
            "height": null,
            "justify_content": null,
            "justify_items": null,
            "left": null,
            "margin": null,
            "max_height": null,
            "max_width": null,
            "min_height": null,
            "min_width": null,
            "object_fit": null,
            "object_position": null,
            "order": null,
            "overflow": null,
            "overflow_x": null,
            "overflow_y": null,
            "padding": null,
            "right": null,
            "top": null,
            "visibility": null,
            "width": null
          }
        },
        "8c94e0f4026b43f791a0f8a205471bbb": {
          "model_module": "@jupyter-widgets/controls",
          "model_name": "DescriptionStyleModel",
          "model_module_version": "1.5.0",
          "state": {
            "_model_module": "@jupyter-widgets/controls",
            "_model_module_version": "1.5.0",
            "_model_name": "DescriptionStyleModel",
            "_view_count": null,
            "_view_module": "@jupyter-widgets/base",
            "_view_module_version": "1.2.0",
            "_view_name": "StyleView",
            "description_width": ""
          }
        },
        "95f3ca6d71e44c59b0aeb04a8fe2d880": {
          "model_module": "@jupyter-widgets/base",
          "model_name": "LayoutModel",
          "model_module_version": "1.2.0",
          "state": {
            "_model_module": "@jupyter-widgets/base",
            "_model_module_version": "1.2.0",
            "_model_name": "LayoutModel",
            "_view_count": null,
            "_view_module": "@jupyter-widgets/base",
            "_view_module_version": "1.2.0",
            "_view_name": "LayoutView",
            "align_content": null,
            "align_items": null,
            "align_self": null,
            "border": null,
            "bottom": null,
            "display": null,
            "flex": null,
            "flex_flow": null,
            "grid_area": null,
            "grid_auto_columns": null,
            "grid_auto_flow": null,
            "grid_auto_rows": null,
            "grid_column": null,
            "grid_gap": null,
            "grid_row": null,
            "grid_template_areas": null,
            "grid_template_columns": null,
            "grid_template_rows": null,
            "height": null,
            "justify_content": null,
            "justify_items": null,
            "left": null,
            "margin": null,
            "max_height": null,
            "max_width": null,
            "min_height": null,
            "min_width": null,
            "object_fit": null,
            "object_position": null,
            "order": null,
            "overflow": null,
            "overflow_x": null,
            "overflow_y": null,
            "padding": null,
            "right": null,
            "top": null,
            "visibility": null,
            "width": null
          }
        },
        "e8becd9903524afe861f4bbacb589b08": {
          "model_module": "@jupyter-widgets/controls",
          "model_name": "ProgressStyleModel",
          "model_module_version": "1.5.0",
          "state": {
            "_model_module": "@jupyter-widgets/controls",
            "_model_module_version": "1.5.0",
            "_model_name": "ProgressStyleModel",
            "_view_count": null,
            "_view_module": "@jupyter-widgets/base",
            "_view_module_version": "1.2.0",
            "_view_name": "StyleView",
            "bar_color": null,
            "description_width": ""
          }
        },
        "687a568cec1f469e92680d4fce6d4737": {
          "model_module": "@jupyter-widgets/base",
          "model_name": "LayoutModel",
          "model_module_version": "1.2.0",
          "state": {
            "_model_module": "@jupyter-widgets/base",
            "_model_module_version": "1.2.0",
            "_model_name": "LayoutModel",
            "_view_count": null,
            "_view_module": "@jupyter-widgets/base",
            "_view_module_version": "1.2.0",
            "_view_name": "LayoutView",
            "align_content": null,
            "align_items": null,
            "align_self": null,
            "border": null,
            "bottom": null,
            "display": null,
            "flex": null,
            "flex_flow": null,
            "grid_area": null,
            "grid_auto_columns": null,
            "grid_auto_flow": null,
            "grid_auto_rows": null,
            "grid_column": null,
            "grid_gap": null,
            "grid_row": null,
            "grid_template_areas": null,
            "grid_template_columns": null,
            "grid_template_rows": null,
            "height": null,
            "justify_content": null,
            "justify_items": null,
            "left": null,
            "margin": null,
            "max_height": null,
            "max_width": null,
            "min_height": null,
            "min_width": null,
            "object_fit": null,
            "object_position": null,
            "order": null,
            "overflow": null,
            "overflow_x": null,
            "overflow_y": null,
            "padding": null,
            "right": null,
            "top": null,
            "visibility": null,
            "width": null
          }
        },
        "6067abce87f1412786535e6a0d95ae7d": {
          "model_module": "@jupyter-widgets/controls",
          "model_name": "DescriptionStyleModel",
          "model_module_version": "1.5.0",
          "state": {
            "_model_module": "@jupyter-widgets/controls",
            "_model_module_version": "1.5.0",
            "_model_name": "DescriptionStyleModel",
            "_view_count": null,
            "_view_module": "@jupyter-widgets/base",
            "_view_module_version": "1.2.0",
            "_view_name": "StyleView",
            "description_width": ""
          }
        }
      }
    }
  },
  "nbformat": 4,
  "nbformat_minor": 0
}